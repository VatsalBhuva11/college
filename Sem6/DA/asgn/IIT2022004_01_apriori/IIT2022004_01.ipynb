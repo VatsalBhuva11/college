{
 "cells": [
  {
   "cell_type": "code",
   "execution_count": 20,
   "metadata": {
    "id": "OiDNp1z9QJO0"
   },
   "outputs": [],
   "source": [
    "import pandas as pd\n",
    "from collections import defaultdict"
   ]
  },
  {
   "cell_type": "code",
   "execution_count": 21,
   "metadata": {
    "colab": {
     "base_uri": "https://localhost:8080/"
    },
    "id": "VRp_8vskRSMo",
    "outputId": "0c38020d-1e96-4e27-b46d-c9d3a96d8d0d"
   },
   "outputs": [],
   "source": [
    "df = pd.read_csv(\"Online Retail.xlsx.csv\")"
   ]
  },
  {
   "cell_type": "markdown",
   "metadata": {
    "id": "px1Hl3W4TGBF"
   },
   "source": [
    "We have loaded the dataset\n"
   ]
  },
  {
   "cell_type": "code",
   "execution_count": 22,
   "metadata": {
    "colab": {
     "base_uri": "https://localhost:8080/",
     "height": 206
    },
    "id": "LJU9H7-PTMdV",
    "outputId": "8d629dc3-054a-4df9-b61e-58e79ba4fc98"
   },
   "outputs": [
    {
     "data": {
      "text/html": [
       "<div>\n",
       "<style scoped>\n",
       "    .dataframe tbody tr th:only-of-type {\n",
       "        vertical-align: middle;\n",
       "    }\n",
       "\n",
       "    .dataframe tbody tr th {\n",
       "        vertical-align: top;\n",
       "    }\n",
       "\n",
       "    .dataframe thead th {\n",
       "        text-align: right;\n",
       "    }\n",
       "</style>\n",
       "<table border=\"1\" class=\"dataframe\">\n",
       "  <thead>\n",
       "    <tr style=\"text-align: right;\">\n",
       "      <th></th>\n",
       "      <th>InvoiceNo</th>\n",
       "      <th>StockCode</th>\n",
       "      <th>Description</th>\n",
       "      <th>Quantity</th>\n",
       "      <th>InvoiceDate</th>\n",
       "      <th>UnitPrice</th>\n",
       "      <th>CustomerID</th>\n",
       "      <th>Country</th>\n",
       "    </tr>\n",
       "  </thead>\n",
       "  <tbody>\n",
       "    <tr>\n",
       "      <th>0</th>\n",
       "      <td>536365</td>\n",
       "      <td>85123A</td>\n",
       "      <td>WHITE HANGING HEART T-LIGHT HOLDER</td>\n",
       "      <td>6</td>\n",
       "      <td>12/1/10 8:26</td>\n",
       "      <td>2.55</td>\n",
       "      <td>17850.0</td>\n",
       "      <td>United Kingdom</td>\n",
       "    </tr>\n",
       "    <tr>\n",
       "      <th>1</th>\n",
       "      <td>536365</td>\n",
       "      <td>71053</td>\n",
       "      <td>WHITE METAL LANTERN</td>\n",
       "      <td>6</td>\n",
       "      <td>12/1/10 8:26</td>\n",
       "      <td>3.39</td>\n",
       "      <td>17850.0</td>\n",
       "      <td>United Kingdom</td>\n",
       "    </tr>\n",
       "    <tr>\n",
       "      <th>2</th>\n",
       "      <td>536365</td>\n",
       "      <td>84406B</td>\n",
       "      <td>CREAM CUPID HEARTS COAT HANGER</td>\n",
       "      <td>8</td>\n",
       "      <td>12/1/10 8:26</td>\n",
       "      <td>2.75</td>\n",
       "      <td>17850.0</td>\n",
       "      <td>United Kingdom</td>\n",
       "    </tr>\n",
       "    <tr>\n",
       "      <th>3</th>\n",
       "      <td>536365</td>\n",
       "      <td>84029G</td>\n",
       "      <td>KNITTED UNION FLAG HOT WATER BOTTLE</td>\n",
       "      <td>6</td>\n",
       "      <td>12/1/10 8:26</td>\n",
       "      <td>3.39</td>\n",
       "      <td>17850.0</td>\n",
       "      <td>United Kingdom</td>\n",
       "    </tr>\n",
       "    <tr>\n",
       "      <th>4</th>\n",
       "      <td>536365</td>\n",
       "      <td>84029E</td>\n",
       "      <td>RED WOOLLY HOTTIE WHITE HEART.</td>\n",
       "      <td>6</td>\n",
       "      <td>12/1/10 8:26</td>\n",
       "      <td>3.39</td>\n",
       "      <td>17850.0</td>\n",
       "      <td>United Kingdom</td>\n",
       "    </tr>\n",
       "  </tbody>\n",
       "</table>\n",
       "</div>"
      ],
      "text/plain": [
       "  InvoiceNo StockCode                          Description  Quantity  \\\n",
       "0    536365    85123A   WHITE HANGING HEART T-LIGHT HOLDER         6   \n",
       "1    536365     71053                  WHITE METAL LANTERN         6   \n",
       "2    536365    84406B       CREAM CUPID HEARTS COAT HANGER         8   \n",
       "3    536365    84029G  KNITTED UNION FLAG HOT WATER BOTTLE         6   \n",
       "4    536365    84029E       RED WOOLLY HOTTIE WHITE HEART.         6   \n",
       "\n",
       "    InvoiceDate  UnitPrice  CustomerID         Country  \n",
       "0  12/1/10 8:26       2.55     17850.0  United Kingdom  \n",
       "1  12/1/10 8:26       3.39     17850.0  United Kingdom  \n",
       "2  12/1/10 8:26       2.75     17850.0  United Kingdom  \n",
       "3  12/1/10 8:26       3.39     17850.0  United Kingdom  \n",
       "4  12/1/10 8:26       3.39     17850.0  United Kingdom  "
      ]
     },
     "execution_count": 22,
     "metadata": {},
     "output_type": "execute_result"
    }
   ],
   "source": [
    "df.head()"
   ]
  },
  {
   "cell_type": "code",
   "execution_count": 23,
   "metadata": {
    "colab": {
     "base_uri": "https://localhost:8080/"
    },
    "id": "ZNAztYhxTTzh",
    "outputId": "b45ab1c8-5bde-4f71-ca61-5a267b561fe3"
   },
   "outputs": [
    {
     "name": "stdout",
     "output_type": "stream",
     "text": [
      "5176450\n"
     ]
    }
   ],
   "source": [
    "total = df[\"Quantity\"].sum()\n",
    "print(total)"
   ]
  },
  {
   "cell_type": "code",
   "execution_count": 24,
   "metadata": {
    "id": "a-dsmZGIYizI"
   },
   "outputs": [],
   "source": [
    "grouped_df = df.groupby('InvoiceNo').agg({'StockCode': lambda x: ', '.join(x.astype(str))})"
   ]
  },
  {
   "cell_type": "code",
   "execution_count": 25,
   "metadata": {
    "colab": {
     "base_uri": "https://localhost:8080/",
     "height": 206
    },
    "id": "8aKHyNDoYtEI",
    "outputId": "8cca8514-72ea-43dd-daa4-61adad05694f"
   },
   "outputs": [
    {
     "data": {
      "text/html": [
       "<div>\n",
       "<style scoped>\n",
       "    .dataframe tbody tr th:only-of-type {\n",
       "        vertical-align: middle;\n",
       "    }\n",
       "\n",
       "    .dataframe tbody tr th {\n",
       "        vertical-align: top;\n",
       "    }\n",
       "\n",
       "    .dataframe thead th {\n",
       "        text-align: right;\n",
       "    }\n",
       "</style>\n",
       "<table border=\"1\" class=\"dataframe\">\n",
       "  <thead>\n",
       "    <tr style=\"text-align: right;\">\n",
       "      <th></th>\n",
       "      <th>InvoiceNo</th>\n",
       "      <th>StockCode</th>\n",
       "    </tr>\n",
       "  </thead>\n",
       "  <tbody>\n",
       "    <tr>\n",
       "      <th>0</th>\n",
       "      <td>536365</td>\n",
       "      <td>85123A, 71053, 84406B, 84029G, 84029E, 22752, ...</td>\n",
       "    </tr>\n",
       "    <tr>\n",
       "      <th>1</th>\n",
       "      <td>536366</td>\n",
       "      <td>22633, 22632</td>\n",
       "    </tr>\n",
       "    <tr>\n",
       "      <th>2</th>\n",
       "      <td>536367</td>\n",
       "      <td>84879, 22745, 22748, 22749, 22310, 84969, 2262...</td>\n",
       "    </tr>\n",
       "    <tr>\n",
       "      <th>3</th>\n",
       "      <td>536368</td>\n",
       "      <td>22960, 22913, 22912, 22914</td>\n",
       "    </tr>\n",
       "    <tr>\n",
       "      <th>4</th>\n",
       "      <td>536369</td>\n",
       "      <td>21756</td>\n",
       "    </tr>\n",
       "  </tbody>\n",
       "</table>\n",
       "</div>"
      ],
      "text/plain": [
       "  InvoiceNo                                          StockCode\n",
       "0    536365  85123A, 71053, 84406B, 84029G, 84029E, 22752, ...\n",
       "1    536366                                       22633, 22632\n",
       "2    536367  84879, 22745, 22748, 22749, 22310, 84969, 2262...\n",
       "3    536368                         22960, 22913, 22912, 22914\n",
       "4    536369                                              21756"
      ]
     },
     "execution_count": 25,
     "metadata": {},
     "output_type": "execute_result"
    }
   ],
   "source": [
    "grouped_df = grouped_df.reset_index()\n",
    "grouped_df.head()"
   ]
  },
  {
   "cell_type": "markdown",
   "metadata": {
    "id": "E0e-PLDpY2OG"
   },
   "source": [
    "Till this point we have grouped the database in each invoice number\n"
   ]
  },
  {
   "cell_type": "markdown",
   "metadata": {
    "id": "VRmOXGgBfdo0"
   },
   "source": [
    "Below is the code for apriori algorithm in which we are generating the candidate sets and then on the basis of the  the support value we are filtering the candidate set ."
   ]
  },
  {
   "cell_type": "markdown",
   "metadata": {
    "id": "xSDffH5Ef000"
   },
   "source": [
    "The algorithm will terminate when there will be no member in the candidate set."
   ]
  },
  {
   "cell_type": "code",
   "execution_count": 26,
   "metadata": {
    "id": "xxIaFl0ZZEC1"
   },
   "outputs": [],
   "source": [
    "\n",
    "def create_itemsets(transactions):\n",
    "    itemsets = defaultdict(int)\n",
    "    for transaction in transactions:\n",
    "        for item in transaction:\n",
    "            itemsets[item] += 1\n",
    "    return itemsets\n",
    "\n",
    "def filter_itemsets(itemsets, min_support):\n",
    "    filtered_itemsets = {item: freq for item, freq in itemsets.items() if freq >= min_support}\n",
    "    return filtered_itemsets\n",
    "\n",
    "def generate_candidates(itemsets, k):\n",
    "\n",
    "    candidates = set()\n",
    "    for itemset1 in itemsets:\n",
    "        for itemset2 in itemsets:\n",
    "            if itemset1 != itemset2:\n",
    "                union = tuple(sorted(set(itemset1) | set(itemset2)))\n",
    "                if len(union) == k:\n",
    "                    candidates.add(union)\n",
    "    return candidates\n",
    "\n",
    "def calculate_support(transactions, itemsets):\n",
    "\n",
    "    support = defaultdict(int)\n",
    "    for transaction in transactions:\n",
    "        for itemset in itemsets:\n",
    "            if set(itemset).issubset(transaction):\n",
    "                support[itemset] += 1\n",
    "    return support\n",
    "\n",
    "def apriori_algorithm(transactions, min_support):\n",
    "\n",
    "    itemsets = create_itemsets(transactions)\n",
    "    frequent_itemsets = filter_itemsets(itemsets, min_support)\n",
    "    k = 2\n",
    "    while True:\n",
    "        candidates = generate_candidates(frequent_itemsets, k)\n",
    "        candidates_support = calculate_support(transactions, candidates)\n",
    "        frequent_candidates = filter_itemsets(candidates_support, min_support)\n",
    "        if not frequent_candidates:\n",
    "            break\n",
    "        frequent_itemsets.update(frequent_candidates)\n",
    "        k += 1\n",
    "    return frequent_itemsets"
   ]
  },
  {
   "cell_type": "markdown",
   "metadata": {
    "id": "OUAVp1fDgEFg"
   },
   "source": [
    "Now we will run our code"
   ]
  },
  {
   "cell_type": "code",
   "execution_count": 27,
   "metadata": {
    "id": "UUDhaqtzgJf3"
   },
   "outputs": [],
   "source": [
    "frequent_itemsets = apriori_algorithm(grouped_df['StockCode'],min_support=50000)"
   ]
  },
  {
   "cell_type": "code",
   "execution_count": 28,
   "metadata": {
    "colab": {
     "base_uri": "https://localhost:8080/"
    },
    "id": "T4f017W0hqzL",
    "outputId": "c5685e12-1dcf-42be-cd89-df24c17f990e"
   },
   "outputs": [
    {
     "name": "stdout",
     "output_type": "stream",
     "text": [
      "{'8': 210898, '5': 180005, '1': 296053, '2': 828325, '3': 259035, ',': 516009, ' ': 516046, '7': 180372, '0': 197322, '4': 186057, '6': 155713, '9': 201222}\n"
     ]
    }
   ],
   "source": [
    "print(frequent_itemsets)"
   ]
  }
 ],
 "metadata": {
  "colab": {
   "provenance": []
  },
  "kernelspec": {
   "display_name": "venv",
   "language": "python",
   "name": "python3"
  },
  "language_info": {
   "codemirror_mode": {
    "name": "ipython",
    "version": 3
   },
   "file_extension": ".py",
   "mimetype": "text/x-python",
   "name": "python",
   "nbconvert_exporter": "python",
   "pygments_lexer": "ipython3",
   "version": "3.10.9"
  }
 },
 "nbformat": 4,
 "nbformat_minor": 4
}
