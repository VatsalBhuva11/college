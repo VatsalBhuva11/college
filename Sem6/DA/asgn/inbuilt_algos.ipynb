{
 "cells": [
  {
   "cell_type": "code",
   "execution_count": 2,
   "metadata": {},
   "outputs": [],
   "source": [
    "import pandas as pd\n",
    "dataset = [\n",
    "    ['milk', 'bread', 'nuts', 'apple'],\n",
    "    ['milk', 'bread', 'nuts'],\n",
    "    ['milk', 'bread'],\n",
    "    ['milk', 'apple'],\n",
    "    ['bread', 'apple']\n",
    "]\n",
    "# Convert to one-hot encoded DataFrame\n",
    "from mlxtend.preprocessing import TransactionEncoder\n",
    "te = TransactionEncoder()\n",
    "te_ary = te.fit(dataset).transform(dataset)\n",
    "df = pd.DataFrame(te_ary, columns=te.columns_)"
   ]
  },
  {
   "cell_type": "code",
   "execution_count": 7,
   "metadata": {},
   "outputs": [
    {
     "name": "stdout",
     "output_type": "stream",
     "text": [
      "Apriori - Frequent Itemsets:\n",
      "    support             itemsets\n",
      "0      0.6              (apple)\n",
      "1      0.8              (bread)\n",
      "2      0.8               (milk)\n",
      "3      0.4               (nuts)\n",
      "4      0.4       (bread, apple)\n",
      "5      0.4        (milk, apple)\n",
      "6      0.6        (milk, bread)\n",
      "7      0.4        (nuts, bread)\n",
      "8      0.4         (milk, nuts)\n",
      "9      0.4  (nuts, milk, bread)\n",
      "\n",
      "Apriori - Association Rules:\n",
      "      antecedents    consequents  antecedent support  consequent support  \\\n",
      "0         (nuts)        (bread)                 0.4                 0.8   \n",
      "1        (bread)         (nuts)                 0.8                 0.4   \n",
      "2         (milk)         (nuts)                 0.8                 0.4   \n",
      "3         (nuts)         (milk)                 0.4                 0.8   \n",
      "4   (milk, nuts)        (bread)                 0.4                 0.8   \n",
      "5  (bread, nuts)         (milk)                 0.4                 0.8   \n",
      "6  (milk, bread)         (nuts)                 0.6                 0.4   \n",
      "7         (nuts)  (milk, bread)                 0.4                 0.6   \n",
      "8         (milk)  (bread, nuts)                 0.8                 0.4   \n",
      "9        (bread)   (milk, nuts)                 0.8                 0.4   \n",
      "\n",
      "   support  confidence      lift  representativity  leverage  conviction  \\\n",
      "0      0.4    1.000000  1.250000               1.0      0.08         inf   \n",
      "1      0.4    0.500000  1.250000               1.0      0.08         1.2   \n",
      "2      0.4    0.500000  1.250000               1.0      0.08         1.2   \n",
      "3      0.4    1.000000  1.250000               1.0      0.08         inf   \n",
      "4      0.4    1.000000  1.250000               1.0      0.08         inf   \n",
      "5      0.4    1.000000  1.250000               1.0      0.08         inf   \n",
      "6      0.4    0.666667  1.666667               1.0      0.16         1.8   \n",
      "7      0.4    1.000000  1.666667               1.0      0.16         inf   \n",
      "8      0.4    0.500000  1.250000               1.0      0.08         1.2   \n",
      "9      0.4    0.500000  1.250000               1.0      0.08         1.2   \n",
      "\n",
      "   zhangs_metric   jaccard  certainty  kulczynski  \n",
      "0       0.333333  0.500000   1.000000    0.750000  \n",
      "1       1.000000  0.500000   0.166667    0.750000  \n",
      "2       1.000000  0.500000   0.166667    0.750000  \n",
      "3       0.333333  0.500000   1.000000    0.750000  \n",
      "4       0.333333  0.500000   1.000000    0.750000  \n",
      "5       0.333333  0.500000   1.000000    0.750000  \n",
      "6       1.000000  0.666667   0.444444    0.833333  \n",
      "7       0.666667  0.666667   1.000000    0.833333  \n",
      "8       1.000000  0.500000   0.166667    0.750000  \n",
      "9       1.000000  0.500000   0.166667    0.750000  \n"
     ]
    }
   ],
   "source": [
    "from mlxtend.frequent_patterns import apriori, association_rules\n",
    "# Get frequent itemsets\n",
    "frequent_itemsets_apriori = apriori(df, min_support=0.4, use_colnames=True)\n",
    "# Generate rules\n",
    "rules_apriori = association_rules(frequent_itemsets_apriori, metric=\"lift\", min_threshold=1.0)\n",
    "print(\"Apriori - Frequent Itemsets:\\n\", frequent_itemsets_apriori)\n",
    "print(\"\\nApriori - Association Rules:\\n\", rules_apriori)"
   ]
  },
  {
   "cell_type": "code",
   "execution_count": 6,
   "metadata": {},
   "outputs": [
    {
     "name": "stdout",
     "output_type": "stream",
     "text": [
      "FP-Growth - Frequent Itemsets:\n",
      "    support             itemsets\n",
      "0      0.8               (milk)\n",
      "1      0.8              (bread)\n",
      "2      0.6              (apple)\n",
      "3      0.4               (nuts)\n",
      "4      0.6        (milk, bread)\n",
      "5      0.4       (bread, apple)\n",
      "6      0.4        (milk, apple)\n",
      "7      0.4        (nuts, bread)\n",
      "8      0.4         (milk, nuts)\n",
      "9      0.4  (nuts, milk, bread)\n",
      "\n",
      "FP-Growth - Association Rules:\n",
      "      antecedents    consequents  antecedent support  consequent support  \\\n",
      "0         (nuts)        (bread)                 0.4                 0.8   \n",
      "1        (bread)         (nuts)                 0.8                 0.4   \n",
      "2         (milk)         (nuts)                 0.8                 0.4   \n",
      "3         (nuts)         (milk)                 0.4                 0.8   \n",
      "4   (milk, nuts)        (bread)                 0.4                 0.8   \n",
      "5  (bread, nuts)         (milk)                 0.4                 0.8   \n",
      "6  (milk, bread)         (nuts)                 0.6                 0.4   \n",
      "7         (nuts)  (milk, bread)                 0.4                 0.6   \n",
      "8         (milk)  (bread, nuts)                 0.8                 0.4   \n",
      "9        (bread)   (milk, nuts)                 0.8                 0.4   \n",
      "\n",
      "   support  confidence      lift  representativity  leverage  conviction  \\\n",
      "0      0.4    1.000000  1.250000               1.0      0.08         inf   \n",
      "1      0.4    0.500000  1.250000               1.0      0.08         1.2   \n",
      "2      0.4    0.500000  1.250000               1.0      0.08         1.2   \n",
      "3      0.4    1.000000  1.250000               1.0      0.08         inf   \n",
      "4      0.4    1.000000  1.250000               1.0      0.08         inf   \n",
      "5      0.4    1.000000  1.250000               1.0      0.08         inf   \n",
      "6      0.4    0.666667  1.666667               1.0      0.16         1.8   \n",
      "7      0.4    1.000000  1.666667               1.0      0.16         inf   \n",
      "8      0.4    0.500000  1.250000               1.0      0.08         1.2   \n",
      "9      0.4    0.500000  1.250000               1.0      0.08         1.2   \n",
      "\n",
      "   zhangs_metric   jaccard  certainty  kulczynski  \n",
      "0       0.333333  0.500000   1.000000    0.750000  \n",
      "1       1.000000  0.500000   0.166667    0.750000  \n",
      "2       1.000000  0.500000   0.166667    0.750000  \n",
      "3       0.333333  0.500000   1.000000    0.750000  \n",
      "4       0.333333  0.500000   1.000000    0.750000  \n",
      "5       0.333333  0.500000   1.000000    0.750000  \n",
      "6       1.000000  0.666667   0.444444    0.833333  \n",
      "7       0.666667  0.666667   1.000000    0.833333  \n",
      "8       1.000000  0.500000   0.166667    0.750000  \n",
      "9       1.000000  0.500000   0.166667    0.750000  \n"
     ]
    }
   ],
   "source": [
    "from mlxtend.frequent_patterns import fpgrowth\n",
    "# Get frequent itemsets using FP-Growth\n",
    "frequent_itemsets_fp = fpgrowth(df, min_support=0.4, use_colnames=True)\n",
    "# Generate rules\n",
    "rules_fp = association_rules(frequent_itemsets_fp, metric=\"lift\", min_threshold=1.0)\n",
    "print(\"FP-Growth - Frequent Itemsets:\\n\", frequent_itemsets_fp)\n",
    "print(\"\\nFP-Growth - Association Rules:\\n\", rules_fp)"
   ]
  },
  {
   "cell_type": "code",
   "execution_count": null,
   "metadata": {},
   "outputs": [],
   "source": []
  }
 ],
 "metadata": {
  "kernelspec": {
   "display_name": "venv",
   "language": "python",
   "name": "python3"
  },
  "language_info": {
   "codemirror_mode": {
    "name": "ipython",
    "version": 3
   },
   "file_extension": ".py",
   "mimetype": "text/x-python",
   "name": "python",
   "nbconvert_exporter": "python",
   "pygments_lexer": "ipython3",
   "version": "3.10.9"
  }
 },
 "nbformat": 4,
 "nbformat_minor": 2
}
