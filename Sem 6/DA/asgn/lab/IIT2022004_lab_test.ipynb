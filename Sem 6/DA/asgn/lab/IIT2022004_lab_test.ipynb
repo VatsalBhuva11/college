{
 "cells": [
  {
   "cell_type": "code",
   "execution_count": 2,
   "id": "ea475913",
   "metadata": {},
   "outputs": [],
   "source": [
    "import pandas as pd\n",
    "from sklearn.model_selection import train_test_split\n",
    "from sklearn.tree import DecisionTreeClassifier\n",
    "from sklearn.metrics import accuracy_score, precision_score, recall_score, f1_score, confusion_matrix\n",
    "from sklearn.svm import SVC\n",
    "from sklearn.preprocessing import StandardScaler\n",
    "from sklearn.impute import SimpleImputer\n",
    "from sklearn.compose import ColumnTransformer\n",
    "from sklearn.pipeline import Pipeline"
   ]
  },
  {
   "cell_type": "code",
   "execution_count": 3,
   "id": "efd81653-05c6-4b08-914c-bb21497d7bf3",
   "metadata": {},
   "outputs": [
    {
     "name": "stdout",
     "output_type": "stream",
     "text": [
      "Top 10 rows:\n",
      "   Pregnancies  Glucose  BloodPressure  SkinThickness  Insulin   BMI  \\\n",
      "0            6      148             72             35        0  33.6   \n",
      "1            1       85             66             29        0  26.6   \n",
      "2            8      183             64              0        0  23.3   \n",
      "3            1       89             66             23       94  28.1   \n",
      "4            0      137             40             35      168  43.1   \n",
      "\n",
      "   DiabetesPedigreeFunction  Age  Outcome  \n",
      "0                     0.627   50        1  \n",
      "1                     0.351   31        0  \n",
      "2                     0.672   32        1  \n",
      "3                     0.167   21        0  \n",
      "4                     2.288   33        1  \n",
      "Rows: 768, Columns: 9\n",
      "Column Datatypes:\n",
      "Pregnancies                   int64\n",
      "Glucose                       int64\n",
      "BloodPressure                 int64\n",
      "SkinThickness                 int64\n",
      "Insulin                       int64\n",
      "BMI                         float64\n",
      "DiabetesPedigreeFunction    float64\n",
      "Age                           int64\n",
      "Outcome                       int64\n",
      "dtype: object\n",
      "<class 'pandas.core.frame.DataFrame'>\n",
      "RangeIndex: 768 entries, 0 to 767\n",
      "Data columns (total 9 columns):\n",
      " #   Column                    Non-Null Count  Dtype  \n",
      "---  ------                    --------------  -----  \n",
      " 0   Pregnancies               768 non-null    int64  \n",
      " 1   Glucose                   768 non-null    int64  \n",
      " 2   BloodPressure             768 non-null    int64  \n",
      " 3   SkinThickness             768 non-null    int64  \n",
      " 4   Insulin                   768 non-null    int64  \n",
      " 5   BMI                       768 non-null    float64\n",
      " 6   DiabetesPedigreeFunction  768 non-null    float64\n",
      " 7   Age                       768 non-null    int64  \n",
      " 8   Outcome                   768 non-null    int64  \n",
      "dtypes: float64(2), int64(7)\n",
      "memory usage: 54.1 KB\n",
      "None\n"
     ]
    }
   ],
   "source": [
    "df = pd.read_csv('Pima_Indians.csv')\n",
    "print(\"Top 10 rows:\")\n",
    "print(df.head())\n",
    "print(f\"Rows: {df.shape[0]}, Columns: {df.shape[1]}\")\n",
    "print(\"Column Datatypes:\")\n",
    "print(df.dtypes)\n",
    "print(df.info())"
   ]
  },
  {
   "cell_type": "code",
   "execution_count": 4,
   "id": "3ec42cd2-354b-4576-860d-5411f2063f8c",
   "metadata": {},
   "outputs": [],
   "source": [
    "features = [\"BMI\", \"BloodPressure\", \"Glucose\"]\n",
    "\n",
    "impute = Pipeline(steps=[\n",
    "    (\"imputer\", SimpleImputer(strategy=\"median\")),\n",
    "    (\"scaler\", StandardScaler())\n",
    "])\n",
    "\n",
    "processer = ColumnTransformer(transformers = [\n",
    "    ('num', impute, features)\n",
    "])"
   ]
  },
  {
   "cell_type": "code",
   "execution_count": 5,
   "id": "284741d3-0d99-4830-bb0b-4f06f2db170c",
   "metadata": {},
   "outputs": [],
   "source": [
    "X = df.drop(columns=['Outcome'])\n",
    "y = df['Outcome']\n",
    "X_processed = processer.fit_transform(X)\n",
    "X_train, X_test, y_train, y_test = train_test_split(X_processed, y, test_size = 0.2, random_state = 42)"
   ]
  },
  {
   "cell_type": "code",
   "execution_count": 6,
   "id": "a43e15f0-322a-4746-ba11-e1eddc25478b",
   "metadata": {},
   "outputs": [],
   "source": [
    "# 1. Training a Gini Index Decision Tree\n",
    "\n",
    "model_gini = DecisionTreeClassifier(criterion=\"gini\", max_depth=5, random_state=42)\n",
    "model_gini.fit(X_train, y_train)\n",
    "y_pred = model_gini.predict(X_test)"
   ]
  },
  {
   "cell_type": "code",
   "execution_count": 7,
   "id": "d825edf5-d62e-4b12-9f23-b3734fefd489",
   "metadata": {},
   "outputs": [
    {
     "name": "stdout",
     "output_type": "stream",
     "text": [
      "Accuracy: 0.7727272727272727\n",
      "Precision: 0.7083333333333334\n",
      "Recall: 0.6181818181818182\n",
      "F1 Score: 0.6601941747572816\n",
      "Confusion Matrix: [[85 14]\n",
      " [21 34]]\n"
     ]
    }
   ],
   "source": [
    "metrics_gini = {\n",
    "    \"Accuracy\": accuracy_score(y_test, y_pred),\n",
    "    \"Precision\": precision_score(y_test, y_pred),\n",
    "    \"Recall\": recall_score(y_test, y_pred),\n",
    "    \"F1 Score\": f1_score(y_test, y_pred),\n",
    "    \"Confusion Matrix\": confusion_matrix(y_test, y_pred)\n",
    "}\n",
    "\n",
    "for metric,value in metrics_gini.items():\n",
    "    print(f\"{metric}: {value}\")"
   ]
  },
  {
   "cell_type": "code",
   "execution_count": 8,
   "id": "be3a060c-ac70-4714-9f5d-4a9794be723d",
   "metadata": {},
   "outputs": [],
   "source": [
    "# 2. Training an SVM classifier using different kernels\n",
    "\n",
    "svm_linear = SVC(kernel = \"linear\")\n",
    "svm_linear.fit(X_train, y_train)\n",
    "y_pred_Linear = svm_linear.predict(X_test)\n",
    "\n",
    "svm_rbf = SVC(kernel = \"rbf\")\n",
    "svm_rbf.fit(X_train, y_train)\n",
    "y_pred_rbf = svm_rbf.predict(X_test)"
   ]
  },
  {
   "cell_type": "code",
   "execution_count": 9,
   "id": "72c8078f-e573-4b95-b12a-620cd597e9e6",
   "metadata": {},
   "outputs": [
    {
     "name": "stdout",
     "output_type": "stream",
     "text": [
      "Accuracy: 0.7597402597402597\n",
      "Precision: 0.6875\n",
      "Recall: 0.6\n",
      "F1 Score: 0.6407766990291263\n",
      "Confusion Matrix: [[84 15]\n",
      " [22 33]]\n",
      "Accuracy: 0.7597402597402597\n",
      "Precision: 0.6956521739130435\n",
      "Recall: 0.5818181818181818\n",
      "F1 Score: 0.6336633663366337\n",
      "Confusion Matrix: [[85 14]\n",
      " [23 32]]\n"
     ]
    }
   ],
   "source": [
    "metrics_linear = {\n",
    "    \"Accuracy\": accuracy_score(y_test, y_pred_Linear),\n",
    "    \"Precision\": precision_score(y_test, y_pred_Linear),\n",
    "    \"Recall\": recall_score(y_test, y_pred_Linear),\n",
    "    \"F1 Score\": f1_score(y_test, y_pred_Linear),\n",
    "    \"Confusion Matrix\": confusion_matrix(y_test, y_pred_Linear)\n",
    "}\n",
    "\n",
    "metrics_rbf = {\n",
    "    \"Accuracy\": accuracy_score(y_test, y_pred_rbf),\n",
    "    \"Precision\": precision_score(y_test, y_pred_rbf),\n",
    "    \"Recall\": recall_score(y_test, y_pred_rbf),\n",
    "    \"F1 Score\": f1_score(y_test, y_pred_rbf),\n",
    "    \"Confusion Matrix\": confusion_matrix(y_test, y_pred_rbf)\n",
    "}\n",
    "\n",
    "for metric,value in metrics_linear.items():\n",
    "    print(f\"{metric}: {value}\")\n",
    "\n",
    "for metric,value in metrics_rbf.items():\n",
    "    print(f\"{metric}: {value}\")"
   ]
  },
  {
   "cell_type": "markdown",
   "id": "b15702b4",
   "metadata": {},
   "source": [
    "\n",
    "As can be observed, the Gini Index Decision Tree gave more accuracy as compared to the Linear\n",
    "and RBF kernel-based SVMs.\n",
    "The confusion metrics are very similar.\n",
    "\n",
    "In this case, there is not much difference between the evaluation metrics of SVM and Decision\n",
    "Tree.\n",
    "\n",
    "-> Decision Tree (Gini Index)\n",
    "Accuracy: 0.7727272727272727\n",
    "Precision: 0.7083333333333334\n",
    "Recall: 0.6181818181818182\n",
    "F1 Score: 0.6601941747572816\n",
    "Confusion Matrix: [[85 14]\n",
    " [21 34]]\n",
    "\n",
    "-> SVM (Linear)\n",
    "Accuracy: 0.7597402597402597\n",
    "Precision: 0.6875\n",
    "Recall: 0.6\n",
    "F1 Score: 0.6407766990291263\n",
    "Confusion Matrix: [[84 15]\n",
    " [22 33]]\n",
    "\n",
    "-> SVM (RBF)\n",
    "Accuracy: 0.7597402597402597\n",
    "Precision: 0.6956521739130435\n",
    "Recall: 0.5818181818181818\n",
    "F1 Score: 0.6336633663366337\n",
    "Confusion Matrix: [[85 14]\n",
    " [23 32]]\n"
   ]
  },
  {
   "cell_type": "code",
   "execution_count": null,
   "id": "46e158ac-166e-4c36-9191-fe1e8ad8704b",
   "metadata": {},
   "outputs": [],
   "source": []
  },
  {
   "cell_type": "code",
   "execution_count": null,
   "id": "a66ddbd0-09eb-42dc-862b-e13026f3e1a7",
   "metadata": {},
   "outputs": [],
   "source": []
  },
  {
   "cell_type": "code",
   "execution_count": null,
   "id": "9618e3f6-5c70-4447-98a4-aaf49cca1e08",
   "metadata": {},
   "outputs": [],
   "source": []
  }
 ],
 "metadata": {
  "kernelspec": {
   "display_name": "Python 3 (ipykernel)",
   "language": "python",
   "name": "python3"
  },
  "language_info": {
   "codemirror_mode": {
    "name": "ipython",
    "version": 3
   },
   "file_extension": ".py",
   "mimetype": "text/x-python",
   "name": "python",
   "nbconvert_exporter": "python",
   "pygments_lexer": "ipython3",
   "version": "3.10.9"
  }
 },
 "nbformat": 4,
 "nbformat_minor": 5
}
