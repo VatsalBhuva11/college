{
  "cells": [
    {
      "cell_type": "code",
      "execution_count": 2,
      "metadata": {
        "id": "tvXAuo6-sFDs"
      },
      "outputs": [],
      "source": [
        "# titanic_nn.ipynb\n",
        "\n",
        "# 1. Load and Preprocess the Dataset\n",
        "import pandas as pd\n",
        "from sklearn.model_selection import train_test_split\n",
        "from sklearn.preprocessing import OneHotEncoder, StandardScaler\n",
        "from sklearn.impute import SimpleImputer\n",
        "from sklearn.compose import ColumnTransformer\n",
        "from sklearn.pipeline import Pipeline\n",
        "\n",
        "# For metrics\n",
        "from sklearn.metrics import accuracy_score, precision_score, recall_score, f1_score\n",
        "\n",
        "# For modeling\n",
        "from tensorflow.keras import Sequential\n",
        "from tensorflow.keras.layers import Dense"
      ]
    },
    {
      "cell_type": "code",
      "execution_count": null,
      "metadata": {
        "colab": {
          "base_uri": "https://localhost:8080/"
        },
        "id": "ptP4yIQa2jFu",
        "outputId": "92e15340-643d-4b48-8e90-3e96c84fac77"
      },
      "outputs": [
        {
          "name": "stdout",
          "output_type": "stream",
          "text": [
            "   PassengerId                                               Name  Pclass  \\\n",
            "0            1                            Braund, Mr. Owen Harris       3   \n",
            "1            2  Cumings, Mrs. John Bradley (Florence Briggs Th...       1   \n",
            "2            3                             Heikkinen, Miss. Laina       3   \n",
            "3            4       Futrelle, Mrs. Jacques Heath (Lily May Peel)       1   \n",
            "4            5                           Allen, Mr. William Henry       3   \n",
            "\n",
            "      Sex   Age  SibSp  Parch            Ticket     Fare Cabin Embarked  \\\n",
            "0    male  22.0      1      0         A/5 21171   7.2500   NaN        S   \n",
            "1  female  38.0      1      0          PC 17599  71.2833   C85        C   \n",
            "2  female  26.0      0      0  STON/O2. 3101282   7.9250   NaN        S   \n",
            "3  female  35.0      1      0            113803  53.1000  C123        S   \n",
            "4    male  35.0      0      0            373450   8.0500   NaN        S   \n",
            "\n",
            "   Survived  \n",
            "0         0  \n",
            "1         1  \n",
            "2         1  \n",
            "3         1  \n",
            "4         0  \n",
            "<class 'pandas.core.frame.DataFrame'>\n",
            "RangeIndex: 891 entries, 0 to 890\n",
            "Data columns (total 12 columns):\n",
            " #   Column       Non-Null Count  Dtype  \n",
            "---  ------       --------------  -----  \n",
            " 0   PassengerId  891 non-null    int64  \n",
            " 1   Name         891 non-null    object \n",
            " 2   Pclass       891 non-null    int64  \n",
            " 3   Sex          891 non-null    object \n",
            " 4   Age          714 non-null    float64\n",
            " 5   SibSp        891 non-null    int64  \n",
            " 6   Parch        891 non-null    int64  \n",
            " 7   Ticket       891 non-null    object \n",
            " 8   Fare         891 non-null    float64\n",
            " 9   Cabin        204 non-null    object \n",
            " 10  Embarked     889 non-null    object \n",
            " 11  Survived     891 non-null    int64  \n",
            "dtypes: float64(2), int64(5), object(5)\n",
            "memory usage: 83.7+ KB\n",
            "None\n",
            "Training samples: 712, Test samples: 179\n"
          ]
        }
      ],
      "source": [
        "# 1.1 Load dataset\n",
        "df = pd.read_csv('titanic - titanic.csv')\n",
        "\n",
        "# 1.2 Basic inspection\n",
        "print(df.head())\n",
        "print(df.info())\n",
        "\n",
        "# 1.3 Handle missing values & encode categorical & scale numeric\n",
        "# Define features and target\n",
        "X = df.drop(['PassengerId','Name','GiniTicket','Cabin','Survived'], axis=1)\n",
        "y = df['Survived']\n",
        "\n",
        "# Column lists\n",
        "numeric_features = ['Age', 'SibSp', 'Parch', 'Fare']\n",
        "categorical_features = ['Pclass', 'Sex', 'Embarked']\n",
        "\n",
        "# Pipelines\n",
        "numeric_transformer = Pipeline(steps=[\n",
        "    ('imputer', SimpleImputer(strategy='median')),\n",
        "    ('scaler', StandardScaler())\n",
        "])\n",
        "\n",
        "categorical_transformer = Pipeline(steps=[\n",
        "    ('imputer', SimpleImputer(strategy='most_frequent')),\n",
        "    ('onehot', OneHotEncoder(handle_unknown='ignore'))\n",
        "])\n",
        "\n",
        "preprocessor = ColumnTransformer(transformers=[\n",
        "    ('num', numeric_transformer, numeric_features),\n",
        "    ('cat', categorical_transformer, categorical_features)\n",
        "])\n",
        "\n",
        "\n",
        "# Apply preprocessing\n",
        "X_processed = preprocessor.fit_transform(X)\n",
        "\n",
        "# 1.4 Train-test split\n",
        "X_train, X_test, y_train, y_test = train_test_split(\n",
        "    X_processed, y, test_size=0.2, random_state=42\n",
        ")\n",
        "\n",
        "print(f\"Training samples: {X_train.shape[0]}, Test samples: {X_test.shape[0]}\")"
      ]
    },
    {
      "cell_type": "code",
      "execution_count": 4,
      "metadata": {
        "colab": {
          "base_uri": "https://localhost:8080/",
          "height": 1000
        },
        "id": "PKu7qaYy2jFu",
        "outputId": "6a1218f1-e0f5-49e6-dd76-8c37bdece9cb"
      },
      "outputs": [
        {
          "name": "stderr",
          "output_type": "stream",
          "text": [
            "/home/vb11x/Desktop/vatsal/College/Sem6/DA/asgn/venv/lib/python3.10/site-packages/keras/src/layers/core/dense.py:87: UserWarning: Do not pass an `input_shape`/`input_dim` argument to a layer. When using Sequential models, prefer using an `Input(shape)` object as the first layer in the model instead.\n",
            "  super().__init__(activity_regularizer=activity_regularizer, **kwargs)\n",
            "2025-04-23 06:38:35.718331: E external/local_xla/xla/stream_executor/cuda/cuda_platform.cc:51] failed call to cuInit: INTERNAL: CUDA error: Failed call to cuInit: UNKNOWN ERROR (303)\n"
          ]
        },
        {
          "data": {
            "text/html": [
              "<pre style=\"white-space:pre;overflow-x:auto;line-height:normal;font-family:Menlo,'DejaVu Sans Mono',consolas,'Courier New',monospace\"><span style=\"font-weight: bold\">Model: \"sequential\"</span>\n",
              "</pre>\n"
            ],
            "text/plain": [
              "\u001b[1mModel: \"sequential\"\u001b[0m\n"
            ]
          },
          "metadata": {},
          "output_type": "display_data"
        },
        {
          "data": {
            "text/html": [
              "<pre style=\"white-space:pre;overflow-x:auto;line-height:normal;font-family:Menlo,'DejaVu Sans Mono',consolas,'Courier New',monospace\">┏━━━━━━━━━━━━━━━━━━━━━━━━━━━━━━━━━┳━━━━━━━━━━━━━━━━━━━━━━━━┳━━━━━━━━━━━━━━━┓\n",
              "┃<span style=\"font-weight: bold\"> Layer (type)                    </span>┃<span style=\"font-weight: bold\"> Output Shape           </span>┃<span style=\"font-weight: bold\">       Param # </span>┃\n",
              "┡━━━━━━━━━━━━━━━━━━━━━━━━━━━━━━━━━╇━━━━━━━━━━━━━━━━━━━━━━━━╇━━━━━━━━━━━━━━━┩\n",
              "│ dense (<span style=\"color: #0087ff; text-decoration-color: #0087ff\">Dense</span>)                   │ (<span style=\"color: #00d7ff; text-decoration-color: #00d7ff\">None</span>, <span style=\"color: #00af00; text-decoration-color: #00af00\">64</span>)             │           <span style=\"color: #00af00; text-decoration-color: #00af00\">832</span> │\n",
              "├─────────────────────────────────┼────────────────────────┼───────────────┤\n",
              "│ dense_1 (<span style=\"color: #0087ff; text-decoration-color: #0087ff\">Dense</span>)                 │ (<span style=\"color: #00d7ff; text-decoration-color: #00d7ff\">None</span>, <span style=\"color: #00af00; text-decoration-color: #00af00\">32</span>)             │         <span style=\"color: #00af00; text-decoration-color: #00af00\">2,080</span> │\n",
              "├─────────────────────────────────┼────────────────────────┼───────────────┤\n",
              "│ dense_2 (<span style=\"color: #0087ff; text-decoration-color: #0087ff\">Dense</span>)                 │ (<span style=\"color: #00d7ff; text-decoration-color: #00d7ff\">None</span>, <span style=\"color: #00af00; text-decoration-color: #00af00\">1</span>)              │            <span style=\"color: #00af00; text-decoration-color: #00af00\">33</span> │\n",
              "└─────────────────────────────────┴────────────────────────┴───────────────┘\n",
              "</pre>\n"
            ],
            "text/plain": [
              "┏━━━━━━━━━━━━━━━━━━━━━━━━━━━━━━━━━┳━━━━━━━━━━━━━━━━━━━━━━━━┳━━━━━━━━━━━━━━━┓\n",
              "┃\u001b[1m \u001b[0m\u001b[1mLayer (type)                   \u001b[0m\u001b[1m \u001b[0m┃\u001b[1m \u001b[0m\u001b[1mOutput Shape          \u001b[0m\u001b[1m \u001b[0m┃\u001b[1m \u001b[0m\u001b[1m      Param #\u001b[0m\u001b[1m \u001b[0m┃\n",
              "┡━━━━━━━━━━━━━━━━━━━━━━━━━━━━━━━━━╇━━━━━━━━━━━━━━━━━━━━━━━━╇━━━━━━━━━━━━━━━┩\n",
              "│ dense (\u001b[38;5;33mDense\u001b[0m)                   │ (\u001b[38;5;45mNone\u001b[0m, \u001b[38;5;34m64\u001b[0m)             │           \u001b[38;5;34m832\u001b[0m │\n",
              "├─────────────────────────────────┼────────────────────────┼───────────────┤\n",
              "│ dense_1 (\u001b[38;5;33mDense\u001b[0m)                 │ (\u001b[38;5;45mNone\u001b[0m, \u001b[38;5;34m32\u001b[0m)             │         \u001b[38;5;34m2,080\u001b[0m │\n",
              "├─────────────────────────────────┼────────────────────────┼───────────────┤\n",
              "│ dense_2 (\u001b[38;5;33mDense\u001b[0m)                 │ (\u001b[38;5;45mNone\u001b[0m, \u001b[38;5;34m1\u001b[0m)              │            \u001b[38;5;34m33\u001b[0m │\n",
              "└─────────────────────────────────┴────────────────────────┴───────────────┘\n"
            ]
          },
          "metadata": {},
          "output_type": "display_data"
        },
        {
          "data": {
            "text/html": [
              "<pre style=\"white-space:pre;overflow-x:auto;line-height:normal;font-family:Menlo,'DejaVu Sans Mono',consolas,'Courier New',monospace\"><span style=\"font-weight: bold\"> Total params: </span><span style=\"color: #00af00; text-decoration-color: #00af00\">2,945</span> (11.50 KB)\n",
              "</pre>\n"
            ],
            "text/plain": [
              "\u001b[1m Total params: \u001b[0m\u001b[38;5;34m2,945\u001b[0m (11.50 KB)\n"
            ]
          },
          "metadata": {},
          "output_type": "display_data"
        },
        {
          "data": {
            "text/html": [
              "<pre style=\"white-space:pre;overflow-x:auto;line-height:normal;font-family:Menlo,'DejaVu Sans Mono',consolas,'Courier New',monospace\"><span style=\"font-weight: bold\"> Trainable params: </span><span style=\"color: #00af00; text-decoration-color: #00af00\">2,945</span> (11.50 KB)\n",
              "</pre>\n"
            ],
            "text/plain": [
              "\u001b[1m Trainable params: \u001b[0m\u001b[38;5;34m2,945\u001b[0m (11.50 KB)\n"
            ]
          },
          "metadata": {},
          "output_type": "display_data"
        },
        {
          "data": {
            "text/html": [
              "<pre style=\"white-space:pre;overflow-x:auto;line-height:normal;font-family:Menlo,'DejaVu Sans Mono',consolas,'Courier New',monospace\"><span style=\"font-weight: bold\"> Non-trainable params: </span><span style=\"color: #00af00; text-decoration-color: #00af00\">0</span> (0.00 B)\n",
              "</pre>\n"
            ],
            "text/plain": [
              "\u001b[1m Non-trainable params: \u001b[0m\u001b[38;5;34m0\u001b[0m (0.00 B)\n"
            ]
          },
          "metadata": {},
          "output_type": "display_data"
        },
        {
          "name": "stdout",
          "output_type": "stream",
          "text": [
            "Epoch 1/60\n",
            "20/20 - 1s - 40ms/step - accuracy: 0.6000 - loss: 0.6596 - val_accuracy: 0.8194 - val_loss: 0.5828\n",
            "Epoch 2/60\n",
            "20/20 - 0s - 4ms/step - accuracy: 0.7766 - loss: 0.5584 - val_accuracy: 0.8889 - val_loss: 0.4648\n",
            "Epoch 3/60\n",
            "20/20 - 0s - 3ms/step - accuracy: 0.8016 - loss: 0.4968 - val_accuracy: 0.9028 - val_loss: 0.3813\n",
            "Epoch 4/60\n",
            "20/20 - 0s - 4ms/step - accuracy: 0.8016 - loss: 0.4626 - val_accuracy: 0.8889 - val_loss: 0.3341\n",
            "Epoch 5/60\n",
            "20/20 - 0s - 4ms/step - accuracy: 0.8109 - loss: 0.4471 - val_accuracy: 0.8889 - val_loss: 0.3134\n",
            "Epoch 6/60\n",
            "20/20 - 0s - 7ms/step - accuracy: 0.8047 - loss: 0.4392 - val_accuracy: 0.9028 - val_loss: 0.3041\n",
            "Epoch 7/60\n",
            "20/20 - 0s - 4ms/step - accuracy: 0.8125 - loss: 0.4314 - val_accuracy: 0.9028 - val_loss: 0.3012\n",
            "Epoch 8/60\n",
            "20/20 - 0s - 4ms/step - accuracy: 0.8172 - loss: 0.4253 - val_accuracy: 0.9028 - val_loss: 0.2919\n",
            "Epoch 9/60\n",
            "20/20 - 0s - 3ms/step - accuracy: 0.8203 - loss: 0.4225 - val_accuracy: 0.9028 - val_loss: 0.2919\n",
            "Epoch 10/60\n",
            "20/20 - 0s - 4ms/step - accuracy: 0.8234 - loss: 0.4173 - val_accuracy: 0.8889 - val_loss: 0.2954\n",
            "Epoch 11/60\n",
            "20/20 - 0s - 3ms/step - accuracy: 0.8250 - loss: 0.4134 - val_accuracy: 0.8889 - val_loss: 0.2915\n",
            "Epoch 12/60\n",
            "20/20 - 0s - 4ms/step - accuracy: 0.8328 - loss: 0.4105 - val_accuracy: 0.8889 - val_loss: 0.2864\n",
            "Epoch 13/60\n",
            "20/20 - 0s - 4ms/step - accuracy: 0.8313 - loss: 0.4096 - val_accuracy: 0.8889 - val_loss: 0.2889\n",
            "Epoch 14/60\n",
            "20/20 - 0s - 3ms/step - accuracy: 0.8281 - loss: 0.4063 - val_accuracy: 0.8889 - val_loss: 0.2860\n",
            "Epoch 15/60\n",
            "20/20 - 0s - 3ms/step - accuracy: 0.8344 - loss: 0.4019 - val_accuracy: 0.8889 - val_loss: 0.2904\n",
            "Epoch 16/60\n",
            "20/20 - 0s - 4ms/step - accuracy: 0.8344 - loss: 0.3994 - val_accuracy: 0.8889 - val_loss: 0.2891\n",
            "Epoch 17/60\n",
            "20/20 - 0s - 3ms/step - accuracy: 0.8375 - loss: 0.4000 - val_accuracy: 0.8750 - val_loss: 0.2864\n",
            "Epoch 18/60\n",
            "20/20 - 0s - 4ms/step - accuracy: 0.8406 - loss: 0.3953 - val_accuracy: 0.8889 - val_loss: 0.2896\n",
            "Epoch 19/60\n",
            "20/20 - 0s - 4ms/step - accuracy: 0.8391 - loss: 0.3957 - val_accuracy: 0.8889 - val_loss: 0.2857\n",
            "Epoch 20/60\n",
            "20/20 - 0s - 3ms/step - accuracy: 0.8391 - loss: 0.3916 - val_accuracy: 0.8889 - val_loss: 0.2918\n",
            "Epoch 21/60\n",
            "20/20 - 0s - 4ms/step - accuracy: 0.8375 - loss: 0.3905 - val_accuracy: 0.8750 - val_loss: 0.2925\n",
            "Epoch 22/60\n",
            "20/20 - 0s - 4ms/step - accuracy: 0.8406 - loss: 0.3889 - val_accuracy: 0.8889 - val_loss: 0.2881\n",
            "Epoch 23/60\n",
            "20/20 - 0s - 3ms/step - accuracy: 0.8422 - loss: 0.3885 - val_accuracy: 0.8889 - val_loss: 0.2897\n",
            "Epoch 24/60\n",
            "20/20 - 0s - 4ms/step - accuracy: 0.8422 - loss: 0.3854 - val_accuracy: 0.8889 - val_loss: 0.2898\n",
            "Epoch 25/60\n",
            "20/20 - 0s - 3ms/step - accuracy: 0.8453 - loss: 0.3855 - val_accuracy: 0.8889 - val_loss: 0.2963\n",
            "Epoch 26/60\n",
            "20/20 - 0s - 3ms/step - accuracy: 0.8406 - loss: 0.3843 - val_accuracy: 0.8889 - val_loss: 0.2866\n",
            "Epoch 27/60\n",
            "20/20 - 0s - 4ms/step - accuracy: 0.8422 - loss: 0.3848 - val_accuracy: 0.8889 - val_loss: 0.2922\n",
            "Epoch 28/60\n",
            "20/20 - 0s - 4ms/step - accuracy: 0.8406 - loss: 0.3816 - val_accuracy: 0.8889 - val_loss: 0.2869\n",
            "Epoch 29/60\n",
            "20/20 - 0s - 4ms/step - accuracy: 0.8453 - loss: 0.3796 - val_accuracy: 0.8889 - val_loss: 0.2940\n",
            "Epoch 30/60\n",
            "20/20 - 0s - 4ms/step - accuracy: 0.8406 - loss: 0.3788 - val_accuracy: 0.8889 - val_loss: 0.2914\n",
            "Epoch 31/60\n",
            "20/20 - 0s - 4ms/step - accuracy: 0.8422 - loss: 0.3767 - val_accuracy: 0.8889 - val_loss: 0.2888\n",
            "Epoch 32/60\n",
            "20/20 - 0s - 4ms/step - accuracy: 0.8422 - loss: 0.3760 - val_accuracy: 0.8889 - val_loss: 0.2935\n",
            "Epoch 33/60\n",
            "20/20 - 0s - 4ms/step - accuracy: 0.8391 - loss: 0.3765 - val_accuracy: 0.8889 - val_loss: 0.2984\n",
            "Epoch 34/60\n",
            "20/20 - 0s - 4ms/step - accuracy: 0.8438 - loss: 0.3725 - val_accuracy: 0.8889 - val_loss: 0.2927\n",
            "Epoch 35/60\n",
            "20/20 - 0s - 4ms/step - accuracy: 0.8469 - loss: 0.3716 - val_accuracy: 0.8750 - val_loss: 0.2996\n",
            "Epoch 36/60\n",
            "20/20 - 0s - 4ms/step - accuracy: 0.8438 - loss: 0.3742 - val_accuracy: 0.8889 - val_loss: 0.2965\n",
            "Epoch 37/60\n",
            "20/20 - 0s - 4ms/step - accuracy: 0.8438 - loss: 0.3698 - val_accuracy: 0.8889 - val_loss: 0.2982\n",
            "Epoch 38/60\n",
            "20/20 - 0s - 3ms/step - accuracy: 0.8438 - loss: 0.3686 - val_accuracy: 0.8889 - val_loss: 0.2966\n",
            "Epoch 39/60\n",
            "20/20 - 0s - 4ms/step - accuracy: 0.8422 - loss: 0.3677 - val_accuracy: 0.8889 - val_loss: 0.2951\n",
            "Epoch 40/60\n",
            "20/20 - 0s - 4ms/step - accuracy: 0.8438 - loss: 0.3668 - val_accuracy: 0.8889 - val_loss: 0.2978\n",
            "Epoch 41/60\n",
            "20/20 - 0s - 4ms/step - accuracy: 0.8469 - loss: 0.3669 - val_accuracy: 0.8889 - val_loss: 0.3024\n",
            "Epoch 42/60\n",
            "20/20 - 0s - 3ms/step - accuracy: 0.8469 - loss: 0.3671 - val_accuracy: 0.8750 - val_loss: 0.3005\n",
            "Epoch 43/60\n",
            "20/20 - 0s - 4ms/step - accuracy: 0.8500 - loss: 0.3645 - val_accuracy: 0.8889 - val_loss: 0.2985\n",
            "Epoch 44/60\n",
            "20/20 - 0s - 3ms/step - accuracy: 0.8453 - loss: 0.3632 - val_accuracy: 0.8889 - val_loss: 0.2981\n",
            "Epoch 45/60\n",
            "20/20 - 0s - 4ms/step - accuracy: 0.8484 - loss: 0.3623 - val_accuracy: 0.8889 - val_loss: 0.2991\n",
            "Epoch 46/60\n",
            "20/20 - 0s - 4ms/step - accuracy: 0.8438 - loss: 0.3615 - val_accuracy: 0.8750 - val_loss: 0.2960\n",
            "Epoch 47/60\n",
            "20/20 - 0s - 4ms/step - accuracy: 0.8453 - loss: 0.3589 - val_accuracy: 0.8750 - val_loss: 0.3006\n",
            "Epoch 48/60\n",
            "20/20 - 0s - 3ms/step - accuracy: 0.8484 - loss: 0.3573 - val_accuracy: 0.8889 - val_loss: 0.2995\n",
            "Epoch 49/60\n",
            "20/20 - 0s - 3ms/step - accuracy: 0.8500 - loss: 0.3566 - val_accuracy: 0.8750 - val_loss: 0.2978\n",
            "Epoch 50/60\n",
            "20/20 - 0s - 4ms/step - accuracy: 0.8453 - loss: 0.3571 - val_accuracy: 0.9028 - val_loss: 0.2979\n",
            "Epoch 51/60\n",
            "20/20 - 0s - 3ms/step - accuracy: 0.8453 - loss: 0.3550 - val_accuracy: 0.8889 - val_loss: 0.2987\n",
            "Epoch 52/60\n",
            "20/20 - 0s - 3ms/step - accuracy: 0.8516 - loss: 0.3556 - val_accuracy: 0.8889 - val_loss: 0.3020\n",
            "Epoch 53/60\n",
            "20/20 - 0s - 3ms/step - accuracy: 0.8500 - loss: 0.3544 - val_accuracy: 0.8889 - val_loss: 0.3109\n",
            "Epoch 54/60\n",
            "20/20 - 0s - 3ms/step - accuracy: 0.8516 - loss: 0.3551 - val_accuracy: 0.9028 - val_loss: 0.2984\n",
            "Epoch 55/60\n",
            "20/20 - 0s - 3ms/step - accuracy: 0.8469 - loss: 0.3529 - val_accuracy: 0.8889 - val_loss: 0.3045\n",
            "Epoch 56/60\n",
            "20/20 - 0s - 3ms/step - accuracy: 0.8500 - loss: 0.3502 - val_accuracy: 0.8889 - val_loss: 0.3021\n",
            "Epoch 57/60\n",
            "20/20 - 0s - 3ms/step - accuracy: 0.8453 - loss: 0.3496 - val_accuracy: 0.8889 - val_loss: 0.3037\n",
            "Epoch 58/60\n",
            "20/20 - 0s - 4ms/step - accuracy: 0.8406 - loss: 0.3556 - val_accuracy: 0.8889 - val_loss: 0.3061\n",
            "Epoch 59/60\n",
            "20/20 - 0s - 3ms/step - accuracy: 0.8484 - loss: 0.3532 - val_accuracy: 0.8889 - val_loss: 0.3063\n",
            "Epoch 60/60\n",
            "20/20 - 0s - 3ms/step - accuracy: 0.8516 - loss: 0.3479 - val_accuracy: 0.8889 - val_loss: 0.2985\n"
          ]
        }
      ],
      "source": [
        "# 2. Define and Implement the Model\n",
        "input_dim = X_train.shape[1]\n",
        "\n",
        "model = Sequential([\n",
        "    Dense(64, activation='relu', input_shape=(input_dim,)),\n",
        "    Dense(32, activation='relu'),\n",
        "    Dense(1, activation='sigmoid')\n",
        "])\n",
        "\n",
        "model.compile(\n",
        "    optimizer='adam',\n",
        "    loss='binary_crossentropy',\n",
        "    metrics=['accuracy']\n",
        ")\n",
        "\n",
        "model.summary()\n",
        "\n",
        "# 2.1 Train the model\n",
        "history = model.fit(\n",
        "    X_train, y_train,\n",
        "    validation_split=0.1,\n",
        "    epochs=60,\n",
        "    batch_size=32,\n",
        "    verbose=2\n",
        ")"
      ]
    },
    {
      "cell_type": "code",
      "execution_count": 5,
      "metadata": {
        "colab": {
          "base_uri": "https://localhost:8080/"
        },
        "id": "sL_F8oXf2jFu",
        "outputId": "30aadc1c-9f1d-4c27-ca2d-015d67d63848"
      },
      "outputs": [
        {
          "name": "stdout",
          "output_type": "stream",
          "text": [
            "\u001b[1m6/6\u001b[0m \u001b[32m━━━━━━━━━━━━━━━━━━━━\u001b[0m\u001b[37m\u001b[0m \u001b[1m0s\u001b[0m 7ms/step \n",
            "Test Set Performance:\n",
            "Accuracy : 0.8212\n",
            "Precision: 0.8750\n",
            "Recall   : 0.6622\n",
            "F1 Score : 0.7538\n"
          ]
        }
      ],
      "source": [
        "# 3. Evaluate Model Performance\n",
        "# 3.1 Predictions\n",
        "y_pred_prob = model.predict(X_test).ravel()\n",
        "y_pred = (y_pred_prob >= 0.5).astype(int)\n",
        "\n",
        "# 3.2 Compute metrics\n",
        "acc = accuracy_score(y_test, y_pred)\n",
        "prec = precision_score(y_test, y_pred, zero_division=0)\n",
        "rec = recall_score(y_test, y_pred)\n",
        "f1 = f1_score(y_test, y_pred)\n",
        "\n",
        "print(\"Test Set Performance:\")\n",
        "print(f\"Accuracy : {acc:.4f}\")\n",
        "print(f\"Precision: {prec:.4f}\")\n",
        "print(f\"Recall   : {rec:.4f}\")\n",
        "print(f\"F1 Score : {f1:.4f}\")"
      ]
    },
    {
      "cell_type": "markdown",
      "metadata": {
        "id": "7TsPOzBm3qK9"
      },
      "source": [
        "# 4. Report Findings\n",
        "\n",
        "### Findings\n",
        "\n",
        "- **Accuracy** on the test set was 0.8212.\n",
        "- **Precision** was 0.8621, indicating that when the model predicts survival, it is correct about 86,2% of the time.\n",
        "- **Recall** was 0.6757, meaning it captures about 67.5% of the actual survivors.\n",
        "- **F1 Score** (harmonic mean of precision & recall) is 75.6%.\n",
        "\n",
        "**Observations:**\n",
        "- The model learns quickly in early epochs; validation curves plateau around epoch ~30.\n",
        "- Slight overfitting observed: training accuracy > validation accuracy.\n",
        "\n",
        "**Challenges & Improvements:**\n",
        "- **Missing Data**: Age has many missing values—imputation with median may be suboptimal.\n",
        "- **Feature Engineering**: Could extract titles from names, cabin decks, or group family sizes.\n",
        "- **Hyperparameter Tuning**: Experiment with different architectures (dropout, more layers), learning rates, and regularization.\n",
        "- **Class Imbalance**: Although not severe here, applying class weights or oversampling might improve recall.\n"
      ]
    }
  ],
  "metadata": {
    "colab": {
      "provenance": []
    },
    "kernelspec": {
      "display_name": "venv",
      "language": "python",
      "name": "python3"
    },
    "language_info": {
      "codemirror_mode": {
        "name": "ipython",
        "version": 3
      },
      "file_extension": ".py",
      "mimetype": "text/x-python",
      "name": "python",
      "nbconvert_exporter": "python",
      "pygments_lexer": "ipython3",
      "version": "3.10.9"
    }
  },
  "nbformat": 4,
  "nbformat_minor": 0
}
