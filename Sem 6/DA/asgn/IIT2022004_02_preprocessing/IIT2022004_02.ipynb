{
  "cells": [
    {
      "cell_type": "code",
      "execution_count": 1,
      "metadata": {
        "id": "gHpoegOBe29S"
      },
      "outputs": [],
      "source": [
        "# Import required libraries\n",
        "import pandas as pd\n",
        "import matplotlib.pyplot as plt\n",
        "from sklearn.preprocessing import StandardScaler, OneHotEncoder\n",
        "from sklearn.model_selection import train_test_split"
      ]
    },
    {
      "cell_type": "code",
      "execution_count": 2,
      "metadata": {
        "colab": {
          "base_uri": "https://localhost:8080/"
        },
        "id": "JV7Vl_ZZe_-0",
        "outputId": "e0235784-8b76-4b8b-dd0d-dc8997437b39"
      },
      "outputs": [
        {
          "name": "stdout",
          "output_type": "stream",
          "text": [
            "First 10 rows:\n",
            "   ID  LIMIT_BAL  SEX  EDUCATION  MARRIAGE  AGE  PAY_0  PAY_2  PAY_3  PAY_4  \\\n",
            "0   1    20000.0    2          2         1   24      2      2     -1     -1   \n",
            "1   2   120000.0    2          2         2   26     -1      2      0      0   \n",
            "2   3    90000.0    2          2         2   34      0      0      0      0   \n",
            "3   4    50000.0    2          2         1   37      0      0      0      0   \n",
            "4   5    50000.0    1          2         1   57     -1      0     -1      0   \n",
            "5   6    50000.0    1          1         2   37      0      0      0      0   \n",
            "6   7   500000.0    1          1         2   29      0      0      0      0   \n",
            "7   8   100000.0    2          2         2   23      0     -1     -1      0   \n",
            "8   9   140000.0    2          3         1   28      0      0      2      0   \n",
            "9  10    20000.0    1          3         2   35     -2     -2     -2     -2   \n",
            "\n",
            "   ...  BILL_AMT4  BILL_AMT5  BILL_AMT6  PAY_AMT1  PAY_AMT2  PAY_AMT3  \\\n",
            "0  ...        0.0        0.0        0.0       0.0     689.0       0.0   \n",
            "1  ...     3272.0     3455.0     3261.0       0.0    1000.0    1000.0   \n",
            "2  ...    14331.0    14948.0    15549.0    1518.0    1500.0    1000.0   \n",
            "3  ...    28314.0    28959.0    29547.0    2000.0    2019.0    1200.0   \n",
            "4  ...    20940.0    19146.0    19131.0    2000.0   36681.0   10000.0   \n",
            "5  ...    19394.0    19619.0    20024.0    2500.0    1815.0     657.0   \n",
            "6  ...   542653.0   483003.0   473944.0   55000.0   40000.0   38000.0   \n",
            "7  ...      221.0     -159.0      567.0     380.0     601.0       0.0   \n",
            "8  ...    12211.0    11793.0     3719.0    3329.0       0.0     432.0   \n",
            "9  ...        0.0    13007.0    13912.0       0.0       0.0       0.0   \n",
            "\n",
            "   PAY_AMT4  PAY_AMT5  PAY_AMT6  default.payment.next.month  \n",
            "0       0.0       0.0       0.0                           1  \n",
            "1    1000.0       0.0    2000.0                           1  \n",
            "2    1000.0    1000.0    5000.0                           0  \n",
            "3    1100.0    1069.0    1000.0                           0  \n",
            "4    9000.0     689.0     679.0                           0  \n",
            "5    1000.0    1000.0     800.0                           0  \n",
            "6   20239.0   13750.0   13770.0                           0  \n",
            "7     581.0    1687.0    1542.0                           0  \n",
            "8    1000.0    1000.0    1000.0                           0  \n",
            "9   13007.0    1122.0       0.0                           0  \n",
            "\n",
            "[10 rows x 25 columns]\n",
            "\n",
            "Dataset Info:\n",
            "Total Rows: 30000, Total Columns: 25\n",
            "\n",
            "Column Data Types:\n",
            "ID                              int64\n",
            "LIMIT_BAL                     float64\n",
            "SEX                             int64\n",
            "EDUCATION                       int64\n",
            "MARRIAGE                        int64\n",
            "AGE                             int64\n",
            "PAY_0                           int64\n",
            "PAY_2                           int64\n",
            "PAY_3                           int64\n",
            "PAY_4                           int64\n",
            "PAY_5                           int64\n",
            "PAY_6                           int64\n",
            "BILL_AMT1                     float64\n",
            "BILL_AMT2                     float64\n",
            "BILL_AMT3                     float64\n",
            "BILL_AMT4                     float64\n",
            "BILL_AMT5                     float64\n",
            "BILL_AMT6                     float64\n",
            "PAY_AMT1                      float64\n",
            "PAY_AMT2                      float64\n",
            "PAY_AMT3                      float64\n",
            "PAY_AMT4                      float64\n",
            "PAY_AMT5                      float64\n",
            "PAY_AMT6                      float64\n",
            "default.payment.next.month      int64\n",
            "dtype: object\n"
          ]
        }
      ],
      "source": [
        "# Step 1: Load and Explore Dataset\n",
        "# Read dataset\n",
        "credit_data = pd.read_csv('UCI_Credit_Card.csv')\n",
        "\n",
        "# Display first 10 rows\n",
        "print(\"First 10 rows:\")\n",
        "print(credit_data.head(10))\n",
        "\n",
        "# Dataset Overview\n",
        "print(\"\\nDataset Info:\")\n",
        "print(f\"Total Rows: {credit_data.shape[0]}, Total Columns: {credit_data.shape[1]}\")\n",
        "print(\"\\nColumn Data Types:\")\n",
        "print(credit_data.dtypes)"
      ]
    },
    {
      "cell_type": "code",
      "execution_count": 3,
      "metadata": {
        "colab": {
          "base_uri": "https://localhost:8080/"
        },
        "id": "9xev_nWLfIr5",
        "outputId": "1243d7bc-0919-4a55-adc3-1cd385d7d852"
      },
      "outputs": [
        {
          "name": "stdout",
          "output_type": "stream",
          "text": [
            "\n",
            "Missing Values Count:\n",
            "ID                            0\n",
            "LIMIT_BAL                     0\n",
            "SEX                           0\n",
            "EDUCATION                     0\n",
            "MARRIAGE                      0\n",
            "AGE                           0\n",
            "PAY_0                         0\n",
            "PAY_2                         0\n",
            "PAY_3                         0\n",
            "PAY_4                         0\n",
            "PAY_5                         0\n",
            "PAY_6                         0\n",
            "BILL_AMT1                     0\n",
            "BILL_AMT2                     0\n",
            "BILL_AMT3                     0\n",
            "BILL_AMT4                     0\n",
            "BILL_AMT5                     0\n",
            "BILL_AMT6                     0\n",
            "PAY_AMT1                      0\n",
            "PAY_AMT2                      0\n",
            "PAY_AMT3                      0\n",
            "PAY_AMT4                      0\n",
            "PAY_AMT5                      0\n",
            "PAY_AMT6                      0\n",
            "default.payment.next.month    0\n",
            "dtype: int64\n",
            "\n",
            "Rows before cleaning: 30000, After cleaning: 30000\n"
          ]
        }
      ],
      "source": [
        "\n",
        "# Step 2: Handling Missing Values\n",
        "# Detect missing values\n",
        "print(\"\\nMissing Values Count:\")\n",
        "print(credit_data.isnull().sum())\n",
        "\n",
        "# Strategy: Drop rows with missing values\n",
        "cleaned_data = credit_data.dropna()\n",
        "print(f\"\\nRows before cleaning: {credit_data.shape[0]}, After cleaning: {cleaned_data.shape[0]}\")"
      ]
    },
    {
      "cell_type": "code",
      "execution_count": null,
      "metadata": {
        "colab": {
          "base_uri": "https://localhost:8080/",
          "height": 409
        },
        "id": "Y74BOn9IfJRa",
        "outputId": "c9ea1ffa-7c12-4737-f3e3-e52d9e378705"
      },
      "outputs": [
        {
          "name": "stdout",
          "output_type": "stream",
          "text": [
            "   ID  LIMIT_BAL  SEX  EDUCATION  MARRIAGE  AGE  PAY_0  PAY_2  PAY_3  PAY_4  \\\n",
            "0   1    20000.0    2          2         1   24      2      2     -1     -1   \n",
            "1   2   120000.0    2          2         2   26     -1      2      0      0   \n",
            "2   3    90000.0    2          2         2   34      0      0      0      0   \n",
            "3   4    50000.0    2          2         1   37      0      0      0      0   \n",
            "4   5    50000.0    1          2         1   57     -1      0     -1      0   \n",
            "\n",
            "   ...  BILL_AMT5  BILL_AMT6  PAY_AMT1  PAY_AMT2  PAY_AMT3  PAY_AMT4  \\\n",
            "0  ...        0.0        0.0       0.0     689.0       0.0       0.0   \n",
            "1  ...     3455.0     3261.0       0.0    1000.0    1000.0    1000.0   \n",
            "2  ...    14948.0    15549.0    1518.0    1500.0    1000.0    1000.0   \n",
            "3  ...    28959.0    29547.0    2000.0    2019.0    1200.0    1100.0   \n",
            "4  ...    19146.0    19131.0    2000.0   36681.0   10000.0    9000.0   \n",
            "\n",
            "   PAY_AMT5  PAY_AMT6  default.payment.next.month  LIMIT_BAL_norm  \n",
            "0       0.0       0.0                           1       -1.136720  \n",
            "1       0.0    2000.0                           1       -0.365981  \n",
            "2    1000.0    5000.0                           0       -0.597202  \n",
            "3    1069.0    1000.0                           0       -0.905498  \n",
            "4     689.0     679.0                           0       -0.905498  \n",
            "\n",
            "[5 rows x 26 columns]\n"
          ]
        },
        {
          "data": {
            "image/png": "[encoded data removed]",
            "text/plain": [
              "<Figure size 1000x400 with 2 Axes>"
            ]
          },
          "metadata": {},
          "output_type": "display_data"
        }
      ],
      "source": [
        "# Step 3: Data Normalization\n",
        "# Normalize numerical features (e.g., LIMIT_BAL)\n",
        "normalizer = StandardScaler()\n",
        "\n",
        "# LIMIT_BAL = (LIMIT_BAL - mean) / std (Z-Score Normalization)\n",
        "cleaned_data['LIMIT_BAL_norm'] = normalizer.fit_transform(cleaned_data[['LIMIT_BAL']])\n",
        "# [['LIMIT_BAL']] uses double square brackets to keep it as a DataFrame (not a Series), \n",
        "# which is required by StandardScaler.\n",
        "\n",
        "\n",
        "# Visualization of Scaling Effect\n",
        "plt.figure(figsize=(10, 4))\n",
        "plt.subplot(1, 2, 1)\n",
        "plt.hist(cleaned_data['LIMIT_BAL'], bins=20, color='blue')\n",
        "plt.title('Original LIMIT_BAL')\n",
        "\n",
        "plt.subplot(1, 2, 2)\n",
        "plt.hist(cleaned_data['LIMIT_BAL_norm'], bins=20, color='red')\n",
        "plt.title('Normalized LIMIT_BAL')\n",
        "plt.show()\n"
      ]
    },
    {
      "cell_type": "code",
      "execution_count": 31,
      "metadata": {
        "colab": {
          "base_uri": "https://localhost:8080/"
        },
        "id": "xsRDGpKUfM9-",
        "outputId": "97140ea1-63d0-47f5-9437-8555938f12ff"
      },
      "outputs": [
        {
          "name": "stdout",
          "output_type": "stream",
          "text": [
            "\n",
            "After encoding categorical columns:\n",
            "   ID  LIMIT_BAL  AGE  PAY_0  PAY_2  PAY_3  PAY_4  PAY_5  PAY_6  BILL_AMT1  \\\n",
            "0   1    20000.0   24      2      2     -1     -1     -2     -2     3913.0   \n",
            "1   2   120000.0   26     -1      2      0      0      0      2     2682.0   \n",
            "2   3    90000.0   34      0      0      0      0      0      0    29239.0   \n",
            "3   4    50000.0   37      0      0      0      0      0      0    46990.0   \n",
            "4   5    50000.0   57     -1      0     -1      0      0      0     8617.0   \n",
            "\n",
            "   ...  SEX_2  EDUCATION_1  EDUCATION_2  EDUCATION_3  EDUCATION_4  \\\n",
            "0  ...    1.0          0.0          1.0          0.0          0.0   \n",
            "1  ...    1.0          0.0          1.0          0.0          0.0   \n",
            "2  ...    1.0          0.0          1.0          0.0          0.0   \n",
            "3  ...    1.0          0.0          1.0          0.0          0.0   \n",
            "4  ...    0.0          0.0          1.0          0.0          0.0   \n",
            "\n",
            "   EDUCATION_5  EDUCATION_6  MARRIAGE_1  MARRIAGE_2  MARRIAGE_3  \n",
            "0          0.0          0.0         1.0         0.0         0.0  \n",
            "1          0.0          0.0         0.0         1.0         0.0  \n",
            "2          0.0          0.0         0.0         1.0         0.0  \n",
            "3          0.0          0.0         1.0         0.0         0.0  \n",
            "4          0.0          0.0         1.0         0.0         0.0  \n",
            "\n",
            "[5 rows x 33 columns]\n"
          ]
        }
      ],
      "source": [
        "# Step 4: Encoding Categorical Variables\n",
        "# Define categorical columns\n",
        "category_features = ['SEX', 'EDUCATION', 'MARRIAGE']\n",
        "encoder = OneHotEncoder(drop='first', sparse_output=False)\n",
        "transformed_features = encoder.fit_transform(cleaned_data[category_features])\n",
        "\n",
        "\n",
        "# Convert to DataFrame\n",
        "encoded_frame = pd.DataFrame(transformed_features, columns=encoder.get_feature_names_out(category_features))\n",
        "processed_data = pd.concat([cleaned_data.drop(columns=category_features), encoded_frame], axis=1)\n",
        "\n",
        "print(\"\\nAfter encoding categorical columns:\")\n",
        "print(processed_data.head())\n"
      ]
    },
    {
      "cell_type": "code",
      "execution_count": 32,
      "metadata": {
        "id": "6JAHCdScfTTF"
      },
      "outputs": [],
      "source": [
        "\n",
        "# Step 5: Feature Engineering\n",
        "# Drop redundant column (e.g., ID)\n",
        "refined_data = processed_data.drop(columns=['ID'])\n",
        "\n",
        "# Create a new feature: PAYMENT_RATIO\n",
        "refined_data['PAYMENT_RATIO'] = refined_data['PAY_AMT1'] / (refined_data['BILL_AMT1'] + 1e-6)  # Avoid division by zero\n",
        "\n"
      ]
    },
    {
      "cell_type": "code",
      "execution_count": 33,
      "metadata": {
        "colab": {
          "base_uri": "https://localhost:8080/"
        },
        "id": "JBZNGc-jfWu4",
        "outputId": "2ece95bf-0eb3-4dc4-8e4d-d547b0cb3351"
      },
      "outputs": [
        {
          "name": "stdout",
          "output_type": "stream",
          "text": [
            "\n",
            "Training Size: 24000, Testing Size: 6000\n"
          ]
        }
      ],
      "source": [
        "# Step 6: Splitting Data\n",
        "predictors = refined_data.drop(columns=['default.payment.next.month'])\n",
        "target = refined_data['default.payment.next.month']\n",
        "X_train, X_test, y_train, y_test = train_test_split(predictors, target, test_size=0.2, random_state=42)\n",
        "\n",
        "print(f\"\\nTraining Size: {X_train.shape[0]}, Testing Size: {X_test.shape[0]}\")"
      ]
    },
    {
      "cell_type": "code",
      "execution_count": 34,
      "metadata": {
        "colab": {
          "base_uri": "https://localhost:8080/"
        },
        "id": "A1LSRPUmfYIT",
        "outputId": "db72223f-aa73-48ac-891c-d4efacc18953"
      },
      "outputs": [
        {
          "name": "stdout",
          "output_type": "stream",
          "text": [
            "\n",
            "Summary:\n",
            "1. Loaded and analyzed the dataset.\n",
            "2. Managed missing data by removing incomplete rows.\n",
            "3. Applied scaling to 'LIMIT_BAL' for normalization.\n",
            "4. Converted categorical variables into numerical format via one-hot encoding.\n",
            "5. Dropped irrelevant columns (ID) and created a new feature (PAYMENT_RATIO).\n",
            "6. Split dataset into training and testing sets.\n",
            "\n",
            "These steps ensure better data quality, reducing bias and enhancing model performance.\n",
            "\n"
          ]
        }
      ],
      "source": [
        "\n",
        "\n",
        "# Step 7: Summary of Data Preprocessing\n",
        "print(\"\"\"\n",
        "Summary:\n",
        "1. Loaded and analyzed the dataset.\n",
        "2. Managed missing data by removing incomplete rows.\n",
        "3. Applied scaling to 'LIMIT_BAL' for normalization.\n",
        "4. Converted categorical variables into numerical format via one-hot encoding.\n",
        "5. Dropped irrelevant columns (ID) and created a new feature (PAYMENT_RATIO).\n",
        "6. Split dataset into training and testing sets.\n",
        "\n",
        "These steps ensure better data quality, reducing bias and enhancing model performance.\n",
        "\"\"\")"
      ]
    },
    {
      "cell_type": "code",
      "execution_count": null,
      "metadata": {},
      "outputs": [],
      "source": []
    }
  ],
  "metadata": {
    "colab": {
      "provenance": []
    },
    "kernelspec": {
      "display_name": "venv",
      "language": "python",
      "name": "python3"
    },
    "language_info": {
      "codemirror_mode": {
        "name": "ipython",
        "version": 3
      },
      "file_extension": ".py",
      "mimetype": "text/x-python",
      "name": "python",
      "nbconvert_exporter": "python",
      "pygments_lexer": "ipython3",
      "version": "3.10.9"
    }
  },
  "nbformat": 4,
  "nbformat_minor": 0
}
