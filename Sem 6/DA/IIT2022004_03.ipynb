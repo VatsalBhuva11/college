{
  "nbformat": 4,
  "nbformat_minor": 0,
  "metadata": {
    "colab": {
      "provenance": []
    },
    "kernelspec": {
      "name": "python3",
      "display_name": "Python 3"
    },
    "language_info": {
      "name": "python"
    }
  },
  "cells": [
    {
      "cell_type": "code",
      "execution_count": 72,
      "metadata": {
        "id": "YcfNyl-am6JI"
      },
      "outputs": [],
      "source": [
        "import pandas as pd\n",
        "import matplotlib.pyplot as plt\n",
        "from collections import defaultdict"
      ]
    },
    {
      "cell_type": "code",
      "source": [
        "aboutFPgrowth = '''\n",
        "The FP-Growth (Frequent Pattern Growth) algorithm is an efficient method for mining frequent itemsets in large datasets, commonly used in market basket analysis.\n",
        "Unlike the Apriori algorithm, which generates candidate itemsets and repeatedly scans the dataset, FP-Growth compresses the dataset into a compact data structure called the FP-tree (Frequent Pattern Tree)\n",
        "and extracts frequent itemsets directly.\n",
        "\n",
        "-> Steps of FP-Growth Algorithm\n",
        "1. Build the FP-Tree\n",
        "- Count the frequency of each item in the dataset.\n",
        "- Remove infrequent items that do not meet the minimum support threshold.\n",
        "- Sort the remaining items in descending order of frequency.\n",
        "- Construct the FP-tree by inserting transactions, maintaining item order, and linking identical items via a header table.\n",
        "\n",
        "2. Extract Frequent Itemsets Using Conditional FP-Trees\n",
        "- Start with the least frequent item and traverse its linked nodes to gather conditional patterns (prefix paths).\n",
        "- Construct a conditional FP-tree for these patterns.\n",
        "- Recursively mine frequent itemsets from the conditional tree until no more frequent patterns can be found.\n",
        "\n",
        "-> Advantages of FP-Growth\n",
        "- Faster than Apriori: Avoids generating numerous candidate itemsets.\n",
        "- Compact Data Representation: The FP-tree structure significantly reduces storage requirements.\n",
        "- Efficient for Large Datasets: Processes large datasets with minimal scans.\n",
        "\n",
        "-> Applications\n",
        "- Market basket analysis (e.g., identifying frequently bought products).\n",
        "- Recommendation systems.\n",
        "- Web usage mining (e.g., analyzing user navigation patterns).\n",
        "\n",
        "FP-Growth efficiently extracts frequent itemsets by recursively exploring compressed transactions,\n",
        "making it ideal for large-scale data mining tasks.\n",
        "'''\n",
        "print(aboutFPgrowth)"
      ],
      "metadata": {
        "colab": {
          "base_uri": "https://localhost:8080/"
        },
        "id": "kfqVgUGco1Ot",
        "outputId": "eb33bf61-ee3d-4b93-fb43-4c975c2757ba"
      },
      "execution_count": 73,
      "outputs": [
        {
          "output_type": "stream",
          "name": "stdout",
          "text": [
            "\n",
            "The FP-Growth (Frequent Pattern Growth) algorithm is an efficient method for mining frequent itemsets in large datasets, commonly used in market basket analysis. \n",
            "Unlike the Apriori algorithm, which generates candidate itemsets and repeatedly scans the dataset, FP-Growth compresses the dataset into a compact data structure called the FP-tree (Frequent Pattern Tree) \n",
            "and extracts frequent itemsets directly.\n",
            "\n",
            "-> Steps of FP-Growth Algorithm\n",
            "1. Build the FP-Tree\n",
            "- Count the frequency of each item in the dataset.\n",
            "- Remove infrequent items that do not meet the minimum support threshold.\n",
            "- Sort the remaining items in descending order of frequency.\n",
            "- Construct the FP-tree by inserting transactions, maintaining item order, and linking identical items via a header table.\n",
            "\n",
            "2. Extract Frequent Itemsets Using Conditional FP-Trees\n",
            "- Start with the least frequent item and traverse its linked nodes to gather conditional patterns (prefix paths).\n",
            "- Construct a conditional FP-tree for these patterns.\n",
            "- Recursively mine frequent itemsets from the conditional tree until no more frequent patterns can be found.\n",
            "\n",
            "-> Advantages of FP-Growth\n",
            "- Faster than Apriori: Avoids generating numerous candidate itemsets.\n",
            "- Compact Data Representation: The FP-tree structure significantly reduces storage requirements.\n",
            "- Efficient for Large Datasets: Processes large datasets with minimal scans.\n",
            "\n",
            "-> Applications\n",
            "- Market basket analysis (e.g., identifying frequently bought products).\n",
            "- Recommendation systems.\n",
            "- Web usage mining (e.g., analyzing user navigation patterns).\n",
            "\n",
            "FP-Growth efficiently extracts frequent itemsets by recursively exploring compressed transactions, \n",
            "making it ideal for large-scale data mining tasks.\n",
            "\n"
          ]
        }
      ]
    },
    {
      "cell_type": "code",
      "source": [
        "# Load Dataset\n",
        "df = pd.read_csv(\"/content/Groceries_dataset.csv\")"
      ],
      "metadata": {
        "id": "RENiadL4oCzB"
      },
      "execution_count": 74,
      "outputs": []
    },
    {
      "cell_type": "code",
      "source": [
        "# Data Preprocessing: Transforming into Transactional Format\n",
        "# Grouping items by Member_number to create a list of transactions\n",
        "transactions = df.groupby(\"Member_number\")[\"itemDescription\"].apply(list).tolist()"
      ],
      "metadata": {
        "id": "Nhxrh1AdoGAy"
      },
      "execution_count": 75,
      "outputs": []
    },
    {
      "cell_type": "code",
      "source": [
        "# Defining the structure of an FP-tree node\n",
        "class FPTreeNode:\n",
        "    def __init__(self, item, count, parent):\n",
        "        self.item = item  # Item name\n",
        "        self.count = count  # Frequency count\n",
        "        self.parent = parent  # Parent node\n",
        "        self.children = {}  # Child nodes\n",
        "        self.link = None  # Link to next node with the same item\n",
        "\n",
        "    def increment(self, count):\n",
        "        \"\"\"Increment the count of the node.\"\"\"\n",
        "        self.count += count"
      ],
      "metadata": {
        "id": "PRTYO7WgoGhT"
      },
      "execution_count": 76,
      "outputs": []
    },
    {
      "cell_type": "code",
      "source": [
        "# Function to build the FP-tree\n",
        "def build_fp_tree(transactions, min_support):\n",
        "    # Step 1: Count frequency of each item\n",
        "    frequency = defaultdict(int)\n",
        "    for transaction in transactions:\n",
        "        for item in transaction:\n",
        "            frequency[item] += 1\n",
        "\n",
        "    # Step 2: Filter items based on min_support threshold\n",
        "    frequency = {k: v for k, v in frequency.items() if v >= min_support}\n",
        "\n",
        "    # If no items meet min_support, return empty tree\n",
        "    if not frequency:\n",
        "        return None, None\n",
        "\n",
        "    # Step 3: Sort items by descending frequency\n",
        "    sorted_items = sorted(frequency.keys(), key=lambda x: -frequency[x])\n",
        "\n",
        "    # Step 4: Initialize FP-tree root and header table\n",
        "    root = FPTreeNode(None, 0, None)\n",
        "    header_table = {item: None for item in sorted_items}\n",
        "\n",
        "    # Step 5: Insert transactions into the FP-tree\n",
        "    for transaction in transactions:\n",
        "        # Sort transaction items based on frequency and filter only frequent items\n",
        "        sorted_transaction = [item for item in sorted(transaction, key=lambda x: -frequency.get(x, 0)) if item in frequency]\n",
        "        if sorted_transaction:\n",
        "            insert_tree(sorted_transaction, root, header_table)\n",
        "\n",
        "    return root, header_table"
      ],
      "metadata": {
        "id": "81etp79foKKG"
      },
      "execution_count": 77,
      "outputs": []
    },
    {
      "cell_type": "code",
      "source": [
        "# Function to insert a transaction into the FP-tree\n",
        "def insert_tree(items, node, header_table):\n",
        "    first, rest = items[0], items[1:]\n",
        "\n",
        "    # If the item already exists as a child, increment its count\n",
        "    if first in node.children:\n",
        "        node.children[first].increment(1)\n",
        "    else:\n",
        "        # Otherwise, create a new node\n",
        "        node.children[first] = FPTreeNode(first, 1, node)\n",
        "\n",
        "        # Update the header table to maintain node links\n",
        "        if header_table[first] is None:\n",
        "            header_table[first] = node.children[first]\n",
        "        else:\n",
        "            current = header_table[first]\n",
        "            while current.link is not None:\n",
        "                current = current.link\n",
        "            current.link = node.children[first]\n",
        "\n",
        "    # Recursively insert the rest of the transaction\n",
        "    if rest:\n",
        "        insert_tree(rest, node.children[first], header_table)\n"
      ],
      "metadata": {
        "id": "MJMSfU0moV3r"
      },
      "execution_count": 78,
      "outputs": []
    },
    {
      "cell_type": "code",
      "source": [
        "# Function to extract frequent itemsets from the FP-tree\n",
        "def extract_frequent_itemsets(header_table, min_support):\n",
        "    frequent_itemsets = {}\n",
        "\n",
        "    # Traverse the header table to count item occurrences\n",
        "    for item, node in header_table.items():\n",
        "        count = 0\n",
        "        while node is not None:\n",
        "            count += node.count\n",
        "            node = node.link\n",
        "\n",
        "        # If item meets min_support, store it as a frequent itemset\n",
        "        if count >= min_support:\n",
        "            frequent_itemsets[item] = count\n",
        "\n",
        "    return frequent_itemsets"
      ],
      "metadata": {
        "id": "bTL2Vg9toWUH"
      },
      "execution_count": 79,
      "outputs": []
    },
    {
      "cell_type": "code",
      "source": [
        "# Define minimum support threshold\n",
        "min_support = 5\n",
        "\n",
        "# Build FP-tree\n",
        "fp_tree, header_table = build_fp_tree(transactions, min_support)\n",
        "\n",
        "# Extract frequent itemsets\n",
        "frequent_itemsets = extract_frequent_itemsets(header_table, min_support)"
      ],
      "metadata": {
        "id": "HNYLKeFloYi1"
      },
      "execution_count": 80,
      "outputs": []
    },
    {
      "cell_type": "code",
      "source": [
        "# Visualization\n",
        "# Sorting the frequent itemsets to get the top 5 most frequent items\n",
        "sorted_items = sorted(frequent_itemsets.items(), key=lambda x: -x[1])[:5]\n",
        "items, counts = zip(*sorted_items)"
      ],
      "metadata": {
        "id": "9F4OH9r7oc1y"
      },
      "execution_count": 81,
      "outputs": []
    },
    {
      "cell_type": "code",
      "source": [
        "# Plot a bar chart to visualize the top 5 frequent items\n",
        "plt.figure(figsize=(10, 5))\n",
        "plt.bar(items, counts, color='skyblue')\n",
        "plt.xlabel('Items')\n",
        "plt.ylabel('Frequency')\n",
        "plt.title('Top 5 Frequent Itemsets')\n",
        "plt.xticks(rotation=45)\n",
        "plt.grid(axis='y', linestyle='--', alpha=0.7)\n",
        "plt.show()"
      ],
      "metadata": {
        "colab": {
          "base_uri": "https://localhost:8080/",
          "height": 566
        },
        "id": "aqCp6tlooe1Q",
        "outputId": "c09cd891-4d52-4be8-ff51-d57fa0929f04"
      },
      "execution_count": 82,
      "outputs": [
        {
          "output_type": "display_data",
          "data": {
            "text/plain": [
              "<Figure size 1000x500 with 1 Axes>"
            ],
            "image/png": "[encoded data removed]"
          },
          "metadata": {}
        }
      ]
    },
    {
      "cell_type": "code",
      "source": [
        "# summary\n",
        "summary = \"\"\"\n",
        "The FP-Growth algorithm was implemented to extract frequent itemsets from the Groceries dataset.\n",
        "\n",
        "Key Findings:\n",
        "1. The dataset was transformed into a transactional format.\n",
        "2. The FP-Growth algorithm identified frequent itemsets based on a minimum support of 5.\n",
        "3. The top 5 frequent items were visualized using a bar chart.\n",
        "\n",
        "Observations:\n",
        "1. The algorithm successfully identified the most frequently purchased items.\n",
        "2. The FP-tree structure allowed efficient compression of transactions, reducing redundancy and improving processing time.\n",
        "3. The top 5 frequent items were visualized, indicating strong purchasing trends among customers.\n",
        "4. Unlike Apriori, FP-Growth did not require multiple scans of the dataset, making it computationally efficient.\n",
        "5. The results show that certain items appear frequently in customer transactions, which can be useful for market basket analysis.\n",
        "\"\"\"\n",
        "\n",
        "print(summary)"
      ],
      "metadata": {
        "colab": {
          "base_uri": "https://localhost:8080/"
        },
        "id": "rjElw4sPogkN",
        "outputId": "95b11980-1bed-44eb-8ac9-930424b047cc"
      },
      "execution_count": 83,
      "outputs": [
        {
          "output_type": "stream",
          "name": "stdout",
          "text": [
            "\n",
            "The FP-Growth algorithm was implemented to extract frequent itemsets from the Groceries dataset.\n",
            "\n",
            "Key Findings:\n",
            "1. The dataset was transformed into a transactional format.\n",
            "2. The FP-Growth algorithm identified frequent itemsets based on a minimum support of 5.\n",
            "3. The top 5 frequent items were visualized using a bar chart.\n",
            "\n",
            "Observations:\n",
            "1. The algorithm successfully identified the most frequently purchased items.\n",
            "2. The FP-tree structure allowed efficient compression of transactions, reducing redundancy and improving processing time.\n",
            "3. The top 5 frequent items were visualized, indicating strong purchasing trends among customers.\n",
            "4. Unlike Apriori, FP-Growth did not require multiple scans of the dataset, making it computationally efficient.\n",
            "5. The results show that certain items appear frequently in customer transactions, which can be useful for market basket analysis.\n",
            "\n"
          ]
        }
      ]
    }
  ]
}